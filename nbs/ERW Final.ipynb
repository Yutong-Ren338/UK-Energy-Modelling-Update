{
 "cells": [
  {
   "cell_type": "code",
   "execution_count": null,
   "id": "0f9f301f-09b3-4267-bb5e-703d585cabab",
   "metadata": {},
   "outputs": [],
   "source": [
    "import numpy as np\n",
    "import matplotlib.pyplot as plt"
   ]
  },
  {
   "cell_type": "markdown",
   "id": "2bee4a56-3c17-4060-9e29-f27058cc0a99",
   "metadata": {},
   "source": [
    "# Estimate CO2 removal with varying rock mass"
   ]
  },
  {
   "cell_type": "markdown",
   "id": "e3fe9d64-5ea3-4f05-a0a8-4998afdca589",
   "metadata": {},
   "source": [
    "##### Annual rock mass"
   ]
  },
  {
   "cell_type": "code",
   "execution_count": null,
   "id": "2c302509-bd07-4377-a689-64ff1d85b23a",
   "metadata": {},
   "outputs": [],
   "source": [
    "# Demand (Without ERW) linearly decrease from 19Mt/yr to 15Mt/yr from 2026-2035 (end of 2025-end of 2034)\n",
    "demand_change = np.linspace(19,15,11)\n",
    "demand = np.concatenate([demand_change,np.full(15,15)])\n",
    "\n",
    "# Extraction (Mt/yr)\n",
    "Site = 96 #Number of extraction sites\n",
    "Capacity_initial = 225 * 10**-3 # 225kt/yr in 2025\n",
    "Capacity_interim = 338 * 10**-3 # 338kt/yr by 2035\n",
    "supply_interim = np.linspace(Capacity_initial*Site,Capacity_interim*Site,11) # Assume linear propagation\n",
    "scale_1 = 1.07 # Scaling up after 2035 in scenario 1\n",
    "scale_2 = 1.15 # Scaling up after 2035 in scenario 2\n",
    "supply_1 = np.concatenate([supply_interim, Capacity_interim*Site * scale_1**np.arange(1,16)]) # Cap at 100Mt/yr\n",
    "supply_2 = np.concatenate([supply_interim, Capacity_interim*Site * scale_2**np.arange(1,12), np.full(4,160)]) # Cap at 160Mt/yr\n",
    "\n",
    "# Net ERW rock\n",
    "net_1 = supply_1 - demand # Scenario 1\n",
    "net_2 = supply_2 - demand # Scenario 2"
   ]
  },
  {
   "cell_type": "code",
   "execution_count": null,
   "id": "57bdafae-7323-42cd-9f55-85c91eb68503",
   "metadata": {},
   "outputs": [],
   "source": [
    "years = np.arange(2025,2051,1)\n",
    "\n",
    "plt.figure(figsize=(12, 6))\n",
    "plt.plot(years, net_1, label='Scenario 1')\n",
    "plt.plot(years, net_2, label ='Scenario 2')\n",
    "plt.grid(color='black',linestyle='--', alpha=0.3)\n",
    "plt.legend()\n",
    "plt.title('Variation in rock mass used in ERW')\n",
    "plt.xlabel('Time (year)')\n",
    "plt.ylabel('Rock Mass (Mt/year)')\n",
    "plt.savefig(\"output/Mass Rock\", bbox_inches='tight')"
   ]
  },
  {
   "cell_type": "code",
   "execution_count": null,
   "id": "b9709252-9169-4240-99b2-75760d92491e",
   "metadata": {},
   "outputs": [],
   "source": [
    "# Dunite Rock for ERW\n",
    "net_dunite = np.concatenate([net_1[:11],np.full(15,net_1[10])])"
   ]
  },
  {
   "cell_type": "code",
   "execution_count": null,
   "id": "2ad3ba77-32af-40ed-b8b7-9fef6a1fabec",
   "metadata": {},
   "outputs": [],
   "source": [
    "Particle_size = 0.00001 # in m (=10μm)\n",
    "CDR_bas = 0.292 # CO2 removal potential for Basalt\n",
    "CDR_dun = 0.795757 # CO2 removal potential for Dunite\n",
    "W_crag = 8.66076 * 10**-11 # Dissolution rate for Cragmill Basalt in molm^-2s^-1\n",
    "W_mid = 1.1709 * 10**-10 # Dissolution rate for Middleton Basalt in molm^-2s^-1\n",
    "W_dun = 7.4545 * 10**-11 # Dissolution rate for Dunite in molm^-2s^-1\n",
    "V = 57 * 10**-6 # Molar volume m^3mol^-1\n",
    "\n",
    "# varying rock mass annually (in tonnes) from 2026 to 2050\n",
    "rock_mass = np.concatenate([np.linspace(5,9,9),np.linspace(10,100,17)])\n",
    "#rock_mass = np.linspace(125,126,76)"
   ]
  },
  {
   "cell_type": "code",
   "execution_count": null,
   "id": "7a01f8e7-06c5-4776-ae2c-cac518930f00",
   "metadata": {},
   "outputs": [],
   "source": [
    "# Function to calculate annuual CO2 removal and the cumulative removal\n",
    "def removal(size, years, rock_mass, W, R): #Particle size(grained), end of 2025 - end of 2050, rock injection per year, dissolution rate, CO2 capture potential\n",
    "    dissolution = [] \n",
    "    for year in range(years):\n",
    "        percentage_dissolution = min(((size**3 - (size - 2 * W * V * (year + 1) * 365 * 24 * 3600)**3) / size**3),1) # Calculate fraction of CO2 dissolution to its maximum\n",
    "                                                                                                                     # Dissolution rate max = 1\n",
    "        dissolution.append(percentage_dissolution)\n",
    "    annual_removal = []\n",
    "    cumulative_removal = []\n",
    "\n",
    "# Annual\n",
    "    for year in range(years):\n",
    "        yearly_removal = 0\n",
    "        for i in range(year + 1):\n",
    "            if i == year:\n",
    "                yearly_removal += rock_mass[i] * R * dissolution[0] #First year\n",
    "            else:\n",
    "                yearly_removal += rock_mass[i] * R * (dissolution[year - i] - dissolution[year - i - 1]) #To not double count annual removal by including past removal\n",
    "        \n",
    "        annual_removal.append(yearly_removal)\n",
    "        \n",
    "# Cumulative\n",
    "        cumulative_sum = sum(rock_mass[i] * R * dissolution[year - i] for i in range(year + 1))\n",
    "        cumulative_removal.append(cumulative_sum)\n",
    "\n",
    "    return annual_removal, cumulative_removal\n",
    "\n",
    "# Running the function for 26 years (2025–2050)\n",
    "removal_results_crag_1, cumulative_results_crag_1 = removal(Particle_size, 25, net_1[:26], W_crag, CDR_bas)\n",
    "removal_results_mid_1, cumulative_results_mid_1 = removal(Particle_size, 25, net_1[:26], W_mid, CDR_bas)\n",
    "removal_results_crag_2, cumulative_results_crag_2 = removal(Particle_size, 25, net_2[:26], W_crag, CDR_bas)\n",
    "removal_results_mid_2, cumulative_results_mid_2 = removal(Particle_size, 25, net_2[:26], W_mid, CDR_bas)\n",
    "removal_results_dun, cumulative_results_dun = removal(Particle_size, 25, net_dunite, W_dun, CDR_dun)\n",
    "\n",
    "\"\"\"\n",
    "# Display results\n",
    "print(\"Annual Removal:\")\n",
    "for year, result in zip(range(2026, 2026 + len(removal_results)), removal_results_crag_1):\n",
    "    print(f\"Year {year}: {result:.4f} MtCO2 removed\")\n",
    "\n",
    "print(\"\\nCumulative Removal:\")\n",
    "for year, result in zip(range(2026, 2026 + len(cumulative_results)), cumulative_results_crag_1):\n",
    "    print(f\"Year {year}: {result:.4f} MtCO2 removed\")\"\"\""
   ]
  },
  {
   "cell_type": "code",
   "execution_count": null,
   "id": "36b8f19c-8556-47ce-9f2e-c08efacc61ae",
   "metadata": {},
   "outputs": [],
   "source": [
    "years = np.arange(2026,2051,1)\n",
    "plt.figure(figsize=(12, 6))\n",
    "plt.bar(years, removal_results_mid_2,label='Middleton (scenario 2)')\n",
    "plt.bar(years, removal_results_crag_2,label='Cragmill (scenario 2)')\n",
    "plt.bar(years, removal_results_mid_1,label='Middleton (scenario 1)')\n",
    "plt.bar(years, removal_results_crag_1,label='Cragmill (scenario 1)')\n",
    "plt.title('Annual CO₂ Capture (2026–2050)', fontsize=16)\n",
    "plt.xlabel('Year', fontsize=14)\n",
    "plt.ylabel('CO₂ Capture (MtCO₂)', fontsize=14)\n",
    "plt.grid(axis='y', linestyle='--', alpha=0.7)\n",
    "plt.legend()\n",
    "plt.savefig(\"output/Basalt CO2\", bbox_inches='tight')\n",
    "plt.show()"
   ]
  },
  {
   "cell_type": "code",
   "execution_count": null,
   "id": "6fe1b598-9892-46ae-9308-5a124fc5941e",
   "metadata": {},
   "outputs": [],
   "source": [
    "years = np.arange(2026,2051,1)\n",
    "plt.figure(figsize=(12, 6))\n",
    "plt.bar(years, removal_results_dun,label='Dunite')\n",
    "plt.title('Annual CO₂ Capture (2026–2050)', fontsize=16)\n",
    "plt.xlabel('Year', fontsize=14)\n",
    "plt.ylabel('CO₂ Capture (MtCO₂)', fontsize=14)\n",
    "plt.grid(axis='y', linestyle='--', alpha=0.7)\n",
    "plt.legend()\n",
    "plt.savefig(\"output/Dunite CO2\", bbox_inches='tight')\n",
    "plt.show()"
   ]
  },
  {
   "cell_type": "code",
   "execution_count": null,
   "id": "02224510-e3c7-4ea3-9d2c-36c06c0ca1f6",
   "metadata": {},
   "outputs": [],
   "source": [
    "years = np.arange(2026,2051,1)\n",
    "plt.figure(figsize=(12, 6))\n",
    "plt.bar(years, cumulative_results_mid_2,label='Middleton (scenario 2)')\n",
    "plt.bar(years, cumulative_results_crag_2,label='Cragmill (scenario 2)')\n",
    "plt.bar(years, cumulative_results_mid_1,label='Middleton (scenario 1)')\n",
    "plt.bar(years, cumulative_results_crag_1,label='Cragmill (scenario 1)')\n",
    "plt.title('Cumulative CO₂ Capture (2026–2050)', fontsize=16)\n",
    "plt.xlabel('Year', fontsize=14)\n",
    "plt.ylabel('CO₂ Capture (MtCO₂)', fontsize=14)\n",
    "plt.grid(axis='y', linestyle='--', alpha=0.7)\n",
    "plt.legend()\n",
    "plt.savefig(\"output/Basalt CO2\", bbox_inches='tight')\n",
    "plt.show()"
   ]
  },
  {
   "cell_type": "markdown",
   "id": "be68e602-92e9-43d2-b9d4-46c53b266b80",
   "metadata": {},
   "source": [
    "### Future observation (no rocks beyond 2050)"
   ]
  },
  {
   "cell_type": "code",
   "execution_count": null,
   "id": "dcb26e67-ecc2-4bda-84bf-8f377561489e",
   "metadata": {},
   "outputs": [],
   "source": [
    "fut_1 = np.concatenate([net_1,np.zeros(30)])\n",
    "fut_2 = np.concatenate([net_2,np.zeros(30)])\n",
    "fut_dun = np.concatenate([net_dunite,np.zeros(30)])\n",
    "\n",
    "removal_results_crag_1_fut, cumulative_results_crag_1_fut = removal(Particle_size, 55, fut_1, W_crag, CDR_bas)\n",
    "removal_results_mid_1_fut, cumulative_results_mid_1_fut = removal(Particle_size, 55, fut_1, W_mid, CDR_bas)\n",
    "removal_results_crag_2_fut, cumulative_results_crag_2_fut = removal(Particle_size, 55, fut_2, W_crag, CDR_bas)\n",
    "removal_results_mid_2_fut, cumulative_results_mid_2_fut = removal(Particle_size, 55, fut_2, W_mid, CDR_bas)\n",
    "removal_results_dun_fut, cumulative_results_dun_fut = removal(Particle_size, 55, fut_dun, W_dun, CDR_dun)"
   ]
  },
  {
   "cell_type": "code",
   "execution_count": null,
   "id": "b0c7a93a-4832-479b-98eb-888a5bcd03a2",
   "metadata": {},
   "outputs": [],
   "source": [
    "years = np.arange(2026,2081,1)\n",
    "plt.figure(figsize=(12, 6))\n",
    "plt.bar(years, cumulative_results_mid_2_fut,label='Middleton (scenario 2)')\n",
    "plt.bar(years, cumulative_results_crag_2_fut,label='Cragmill (scenario 2)')\n",
    "plt.bar(years, cumulative_results_mid_1_fut,label='Middleton (scenario 1)')\n",
    "plt.bar(years, cumulative_results_crag_1_fut,label='Cragmill (scenario 1)')\n",
    "plt.title('Cumulative CO₂ Capture (2026–2080)', fontsize=16)\n",
    "plt.xlabel('Year', fontsize=14)\n",
    "plt.ylabel('CO₂ Capture (MtCO₂)', fontsize=14)\n",
    "plt.grid(axis='y', linestyle='--', alpha=0.7)\n",
    "plt.legend()\n",
    "plt.savefig(\"output/Cumulative CO2 Future\", bbox_inches='tight')\n",
    "plt.show()"
   ]
  },
  {
   "cell_type": "code",
   "execution_count": null,
   "id": "cdbe496b-7b61-4e2b-be9f-f9fec2be6e8a",
   "metadata": {},
   "outputs": [],
   "source": [
    "years = np.arange(2026,2081,1)\n",
    "plt.figure(figsize=(12, 6))\n",
    "plt.bar(years, removal_results_mid_2_fut,label='Middleton (scenario 2)')\n",
    "plt.bar(years, removal_results_crag_2_fut,label='Cragmill (scenario 2)')\n",
    "plt.bar(years, removal_results_mid_1_fut,label='Middleton (scenario 1)')\n",
    "plt.bar(years, removal_results_crag_1_fut,label='Cragmill (scenario 1)')\n",
    "plt.title('Annual CO₂ Capture (2026–2080)', fontsize=16)\n",
    "plt.xlabel('Year', fontsize=14)\n",
    "plt.ylabel('CO₂ Capture (MtCO₂)', fontsize=14)\n",
    "plt.grid(axis='y', linestyle='--', alpha=0.7)\n",
    "plt.legend()\n",
    "plt.savefig(\"output/Basalt CO2 Future\", bbox_inches='tight')\n",
    "plt.show()"
   ]
  },
  {
   "cell_type": "code",
   "execution_count": null,
   "id": "fec8a0e5-6c93-42b8-bf4b-29e6b175690f",
   "metadata": {},
   "outputs": [],
   "source": [
    "plt.figure(figsize=(12, 6))\n",
    "plt.bar(years, removal_results_dun_fut,label='Dunite')\n",
    "plt.title('Annual CO₂ Capture (2026–2050)', fontsize=16)\n",
    "plt.xlabel('Year', fontsize=14)\n",
    "plt.ylabel('CO₂ Capture (MtCO₂)', fontsize=14)\n",
    "plt.grid(axis='y', linestyle='--', alpha=0.7)\n",
    "plt.legend()\n",
    "plt.savefig(\"output/Dunite CO2\", bbox_inches='tight')\n",
    "plt.show()"
   ]
  },
  {
   "cell_type": "markdown",
   "id": "615be4cd-9219-415a-9495-18385d228d21",
   "metadata": {},
   "source": [
    "# Estimate CO2 removal with larger particle size"
   ]
  },
  {
   "cell_type": "code",
   "execution_count": null,
   "id": "3edc0768-4e9b-45de-a045-1446cbd390a7",
   "metadata": {},
   "outputs": [],
   "source": [
    "# Particle size 10, 20, 30, 50, 100\n",
    "removal_results_mid_2, cumulative_results_mid_2 = removal(Particle_size, 25, net_2[:26], W_mid, CDR_bas)\n",
    "removal_results_mid_2_20, cumulative_results_mid_2_20 = removal(Particle_size*2, 25, net_2[:26], W_mid, CDR_bas)\n",
    "removal_results_mid_2_30, cumulative_results_mid_2_30 = removal(Particle_size*3, 25, net_2[:26], W_mid, CDR_bas)\n",
    "removal_results_mid_2_50, cumulative_results_mid_2_50 = removal(Particle_size*5, 25, net_2[:26], W_mid, CDR_bas)\n",
    "removal_results_mid_2_100, cumulative_results_mid_2_100 = removal(Particle_size*10, 25, net_2[:26], W_mid, CDR_bas)"
   ]
  },
  {
   "cell_type": "code",
   "execution_count": null,
   "id": "10511c4d-df11-4908-9ff3-9f36ca4db7eb",
   "metadata": {},
   "outputs": [],
   "source": [
    "years = np.arange(2026,2051,1)\n",
    "plt.figure(figsize=(12, 6))\n",
    "plt.bar(years, removal_results_mid_2,label='P=10µm')\n",
    "plt.bar(years, removal_results_mid_2_20,label='P=20µm')\n",
    "plt.bar(years, removal_results_mid_2_30,label='P=30µm')\n",
    "plt.bar(years, removal_results_mid_2_50,label='P=50µm')\n",
    "plt.bar(years, removal_results_mid_2_100,label='P=100µm')\n",
    "plt.title('Annual CO₂ Capture (2026–2050)', fontsize=16)\n",
    "plt.xlabel('Year', fontsize=14)\n",
    "plt.ylabel('CO₂ Capture (MtCO₂)', fontsize=14)\n",
    "plt.grid(axis='y', linestyle='--', alpha=0.7)\n",
    "plt.legend()\n",
    "plt.savefig(\"output/Particle Size CO2\", bbox_inches='tight')\n",
    "plt.show()"
   ]
  },
  {
   "cell_type": "code",
   "execution_count": null,
   "id": "b5b08151",
   "metadata": {},
   "outputs": [],
   "source": []
  }
 ],
 "metadata": {
  "kernelspec": {
   "display_name": ".venv",
   "language": "python",
   "name": "python3"
  },
  "language_info": {
   "codemirror_mode": {
    "name": "ipython",
    "version": 3
   },
   "file_extension": ".py",
   "mimetype": "text/x-python",
   "name": "python",
   "nbconvert_exporter": "python",
   "pygments_lexer": "ipython3",
   "version": "3.12.6"
  }
 },
 "nbformat": 4,
 "nbformat_minor": 5
}
