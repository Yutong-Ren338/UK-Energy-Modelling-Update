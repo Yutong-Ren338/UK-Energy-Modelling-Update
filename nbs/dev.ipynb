{
 "cells": [
  {
   "cell_type": "code",
   "execution_count": null,
   "id": "9870738c",
   "metadata": {},
   "outputs": [],
   "source": [
    "%load_ext autoreload\n",
    "%autoreload 2"
   ]
  },
  {
   "cell_type": "code",
   "execution_count": null,
   "id": "31c9f610",
   "metadata": {},
   "outputs": [],
   "source": [
    "import matplotlib.pyplot as plt\n",
    "\n",
    "import src.assumptions as A\n",
    "from src import matplotlib_style  # noqa\n",
    "from src import model\n",
    "\n",
    "from src.data import demand\n",
    "from src.units import Units as U"
   ]
  },
  {
   "cell_type": "code",
   "execution_count": null,
   "id": "a8cbb3c7",
   "metadata": {},
   "outputs": [],
   "source": [
    "era5_df = demand.demand_era5(\"ME\")\n",
    "espeni_df = demand.demand_espeni(\"ME\")\n",
    "\n",
    "# resample to yearly and plot again\n",
    "era5_yearly = era5_df.resample(\"ME\").mean().reset_index()\n",
    "espeni_yearly = espeni_df.resample(\"ME\").mean().reset_index()\n",
    "plt.figure(figsize=(12, 6))\n",
    "plt.plot(era5_yearly[\"date\"], era5_yearly[\"demand\"], label=\"ERA5\", color=\"blue\")\n",
    "plt.plot(espeni_yearly[\"date\"], espeni_yearly[\"demand\"], label=\"ESPENI\", color=\"orange\")\n",
    "plt.title(\"Monthly Electricity Demand Comparison\")\n",
    "plt.xlabel(\"Year\")\n",
    "plt.ylabel(\"Electricity Demand (GW)\")\n",
    "plt.legend()"
   ]
  },
  {
   "cell_type": "code",
   "execution_count": null,
   "id": "5d3068e9",
   "metadata": {},
   "outputs": [],
   "source": [
    "# reproduce Rei's plot\n",
    "A.Nuclear.Capacity = 12 * U.GW\n",
    "days_without_excess_nuclear = model.fraction_days_without_excess(\"era5\", return_mean=False)\n",
    "A.Nuclear.Capacity = 0 * U.GW\n",
    "days_without_excess_none = model.fraction_days_without_excess(\"era5\", return_mean=False)\n",
    "\n",
    "plt.figure(figsize=(8, 4))\n",
    "plt.plot(days_without_excess_nuclear, days_without_excess_nuclear.index.values, marker=\"o\", label=\"12 GW Nuclear\")\n",
    "plt.plot(days_without_excess_none, days_without_excess_none.index.values, marker=\"o\", label=\"0 GW Nuclear\")\n",
    "plt.xlabel(\"Days without Excess Generation\")\n",
    "plt.ylabel(\"Renewable Capacity (GW)\")\n",
    "plt.legend()"
   ]
  },
  {
   "cell_type": "code",
   "execution_count": null,
   "id": "6649152a",
   "metadata": {},
   "outputs": [],
   "source": [
    "# my version\n",
    "A.Nuclear.Capacity = 12 * U.GW\n",
    "era5_nuclear = model.fraction_days_without_excess(\"era5\", return_mean=True)\n",
    "espeni_nuclear = model.fraction_days_without_excess(\"espeni\", return_mean=True)\n",
    "A.Nuclear.Capacity = 0 * U.GW\n",
    "era5_no_nuclear = model.fraction_days_without_excess(\"era5\", return_mean=True)\n",
    "espeni_no_nuclear = model.fraction_days_without_excess(\"espeni\", return_mean=True)\n",
    "\n",
    "plt.figure(figsize=(8, 4))\n",
    "plt.plot(era5_nuclear.index.values, era5_nuclear, marker=\"o\", label=\"ERA5 12 GW Nuclear\")\n",
    "plt.plot(era5_no_nuclear.index.values, era5_no_nuclear, marker=\"o\", label=\"ERA5 0 GW Nuclear\")\n",
    "plt.plot(espeni_nuclear.index.values, espeni_nuclear, marker=\"x\", ls=\"--\", label=\"ESPENI 12 GW Nuclear\", color=\"blue\")\n",
    "plt.plot(espeni_no_nuclear.index.values, espeni_no_nuclear, marker=\"x\", ls=\"--\", label=\"ESPENI 0 GW Nuclear\", color=\"orange\")\n",
    "plt.xlabel(\"Renewable Capacity (GW)\")\n",
    "plt.ylabel(\"Days without Excess Generation\")\n",
    "plt.legend()"
   ]
  },
  {
   "cell_type": "code",
   "execution_count": null,
   "id": "c5ac4a20",
   "metadata": {},
   "outputs": [],
   "source": []
  }
 ],
 "metadata": {
  "kernelspec": {
   "display_name": ".venv",
   "language": "python",
   "name": "python3"
  },
  "language_info": {
   "codemirror_mode": {
    "name": "ipython",
    "version": 3
   },
   "file_extension": ".py",
   "mimetype": "text/x-python",
   "name": "python",
   "nbconvert_exporter": "python",
   "pygments_lexer": "ipython3",
   "version": "3.12.6"
  }
 },
 "nbformat": 4,
 "nbformat_minor": 5
}
