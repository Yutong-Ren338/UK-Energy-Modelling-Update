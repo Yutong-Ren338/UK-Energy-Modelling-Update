{
 "cells": [
  {
   "cell_type": "code",
   "execution_count": null,
   "id": "9870738c",
   "metadata": {},
   "outputs": [],
   "source": [
    "%load_ext autoreload\n",
    "%autoreload 2"
   ]
  },
  {
   "cell_type": "code",
   "execution_count": null,
   "id": "31c9f610",
   "metadata": {},
   "outputs": [],
   "source": [
    "from src import matplotlib_style  # noqa\n",
    "import matplotlib.pyplot as plt\n",
    "\n",
    "import src.assumptions as A\n",
    "from src import supply_model\n",
    "\n",
    "from src.data import demand\n",
    "from src.units import Units as U\n",
    "import pandas as pd\n",
    "from src import storage_model\n",
    "\n",
    "from pathlib import Path"
   ]
  },
  {
   "cell_type": "markdown",
   "id": "85aa0ff1",
   "metadata": {},
   "source": [
    "# days without excess supply plots"
   ]
  },
  {
   "cell_type": "code",
   "execution_count": null,
   "id": "5d3068e9",
   "metadata": {},
   "outputs": [],
   "source": [
    "# reproduce Rei's plot\n",
    "A.Nuclear.Capacity = 12 * U.GW\n",
    "days_without_excess_nuclear = supply_model.fraction_days_without_excess(\"era5\", return_mean=False)\n",
    "A.Nuclear.Capacity = 0 * U.GW\n",
    "days_without_excess_none = supply_model.fraction_days_without_excess(\"era5\", return_mean=False)\n",
    "\n",
    "plt.figure()\n",
    "plt.plot(days_without_excess_none, days_without_excess_none.index.values, label=\"0 GW Nuclear\")\n",
    "plt.plot(days_without_excess_nuclear, days_without_excess_nuclear.index.values, label=\"12 GW Nuclear\")\n",
    "plt.xlabel(\"Days without Excess Generation\")\n",
    "plt.ylabel(\"Renewable Capacity (GW)\")\n",
    "plt.ylim(0, 500)\n",
    "plt.legend()"
   ]
  },
  {
   "cell_type": "code",
   "execution_count": null,
   "id": "6649152a",
   "metadata": {},
   "outputs": [],
   "source": [
    "# my version\n",
    "A.Nuclear.Capacity = 12 * U.GW\n",
    "era5_nuclear = supply_model.fraction_days_without_excess(\"era5\", return_mean=True)\n",
    "espeni_nuclear = supply_model.fraction_days_without_excess(\"espeni\", return_mean=True)\n",
    "A.Nuclear.Capacity = 0 * U.GW\n",
    "era5_no_nuclear = supply_model.fraction_days_without_excess(\"era5\", return_mean=True)\n",
    "espeni_no_nuclear = supply_model.fraction_days_without_excess(\"espeni\", return_mean=True)\n",
    "\n",
    "plt.figure()\n",
    "plt.plot(era5_nuclear.index.values, era5_nuclear, label=\"ERA5 12 GW Nuclear\")\n",
    "plt.plot(era5_no_nuclear.index.values, era5_no_nuclear, label=\"ERA5 0 GW Nuclear\")\n",
    "plt.plot(espeni_nuclear.index.values, espeni_nuclear, ls=\"--\", label=\"ESPENI 12 GW Nuclear\", color=\"blue\")\n",
    "plt.plot(espeni_no_nuclear.index.values, espeni_no_nuclear, ls=\"--\", label=\"ESPENI 0 GW Nuclear\", color=\"orange\")\n",
    "plt.xlabel(\"Renewable Capacity (GW)\")\n",
    "plt.ylabel(\"Days without Excess Generation\")\n",
    "plt.legend()"
   ]
  },
  {
   "cell_type": "code",
   "execution_count": null,
   "id": "9ba3a069",
   "metadata": {},
   "outputs": [],
   "source": [
    "# now a version comparing naive and new demand scaling\n",
    "A.Nuclear.Capacity = 12 * U.GW\n",
    "naive_nuclear = supply_model.fraction_days_without_excess(\"era5\", return_mean=True, naive_demand_scaling=True)\n",
    "new_nuclear = supply_model.fraction_days_without_excess(\"era5\", return_mean=True, naive_demand_scaling=False)\n",
    "A.Nuclear.Capacity = 0 * U.GW\n",
    "naive_no_nuclear = supply_model.fraction_days_without_excess(\"era5\", return_mean=True, naive_demand_scaling=True)\n",
    "new_no_nuclear = supply_model.fraction_days_without_excess(\"era5\", return_mean=True, naive_demand_scaling=False)\n",
    "\n",
    "plt.figure()\n",
    "plt.plot(naive_nuclear.index.values, naive_nuclear, label=\"Naive 12 GW Nuclear\")\n",
    "plt.plot(naive_no_nuclear.index.values, naive_no_nuclear, label=\"Naive 0 GW Nuclear\")\n",
    "plt.plot(new_nuclear.index.values, new_nuclear, ls=\"--\", label=\"Seasonal 12 GW Nuclear\", color=\"blue\")\n",
    "plt.plot(new_no_nuclear.index.values, new_no_nuclear, ls=\"--\", label=\"Seasonal 0 GW Nuclear\", color=\"orange\")\n",
    "plt.xlabel(\"Renewable Capacity (GW)\")\n",
    "plt.ylabel(\"Days without Excess Generation\")\n",
    "plt.legend()"
   ]
  },
  {
   "cell_type": "markdown",
   "id": "095a208e",
   "metadata": {},
   "source": [
    "# storage model plots"
   ]
  },
  {
   "cell_type": "code",
   "execution_count": null,
   "id": "25e6922f",
   "metadata": {},
   "outputs": [],
   "source": [
    "renewable_capacity = 350\n",
    "df = supply_model.get_net_supply().reset_index()\n",
    "\n",
    "storage = storage_model.StorageModel(\n",
    "    renewable_capacity=renewable_capacity * U.GW,\n",
    "    max_storage_capacity=A.HydrogenStorage.CavernStorage.MaxCapacity,\n",
    "    electrolyser_power=A.HydrogenStorage.Electrolysis.Power,\n",
    "    dac_capacity=A.DAC.Capacity,\n",
    ")\n",
    "net_supply_df = storage.run_simulation(df)\n",
    "results = storage.analyze_simulation_results(net_supply_df)\n",
    "storage.print_simulation_results(results)\n",
    "\n",
    "# meet L>20\n",
    "plt.figure(figsize=(7, 4), dpi=200)\n",
    "plt.plot(net_supply_df[f\"L (TWh),RC={renewable_capacity}GW\"], color=\"g\", linewidth=0.3, label=\"Energy in Storage\")\n",
    "plt.ylim(0, storage.max_storage_capacity * 1.1)\n",
    "plt.xlabel(\"Day in 40 years\")\n",
    "plt.ylabel(\"Stored Energy (TWh)\")\n",
    "plt.axhline(storage.max_storage_capacity, linestyle=\"dashed\", color=\"r\", label=\"Minimum Storage Capacity\")\n",
    "plt.axhline(20, linestyle=\"dashed\", color=\"b\", label=\"Threshold Energy in Storage\")\n",
    "plt.legend()\n"
   ]
  },
  {
   "cell_type": "code",
   "execution_count": null,
   "id": "25de08ce",
   "metadata": {},
   "outputs": [],
   "source": [
    "df = supply_model.get_net_supply().reset_index()\n",
    "# plot a 3D surface of x (renewable capacity), y (electrolyser power) and z (minimum storage)\n",
    "renewable_capacities = range(350, 500, 10)\n",
    "electrolyser_powers = range(20, 110, 10)\n",
    "xyzs = []\n",
    "for renewable_capacity in renewable_capacities:\n",
    "    for electrolyser_power in electrolyser_powers:\n",
    "        model = storage_model.StorageModel(\n",
    "            renewable_capacity=renewable_capacity * U.GW,\n",
    "            max_storage_capacity=A.HydrogenStorage.CavernStorage.MaxCapacity,\n",
    "            electrolyser_power=electrolyser_power * U.GW,\n",
    "            dac_capacity=A.DAC.Capacity,\n",
    "        )\n",
    "\n",
    "        net_supply_df = model.run_simulation(df.copy())\n",
    "        results = model.analyze_simulation_results(net_supply_df)\n",
    "        xyz = (renewable_capacity, electrolyser_power, results[\"minimum_storage\"].magnitude)\n",
    "        xyzs.append(xyz)"
   ]
  },
  {
   "cell_type": "code",
   "execution_count": null,
   "id": "ae00f060",
   "metadata": {},
   "outputs": [],
   "source": [
    "import numpy as np\n",
    "import matplotlib.pyplot as plt\n",
    "from mpl_toolkits.mplot3d import Axes3D\n",
    "\n",
    "fig = plt.figure(figsize=(8, 6), dpi=200)\n",
    "ax = fig.add_subplot(111, projection=\"3d\")\n",
    "\n",
    "# Prepare data for 3D surface plot\n",
    "xyz = np.array(xyzs)\n",
    "X = xyz[:, 0].reshape(len(renewable_capacities), len(electrolyser_powers))\n",
    "Y = xyz[:, 1].reshape(len(renewable_capacities), len(electrolyser_powers))\n",
    "Z = xyz[:, 2].reshape(len(renewable_capacities), len(electrolyser_powers))\n",
    "\n",
    "surf = ax.plot_surface(X, Y, Z, cmap=\"viridis\", alpha=0.9)\n",
    "ax.set_xlabel(\"Renewable Capacity (GW)\")\n",
    "ax.set_ylabel(\"Electrolyser Power (GW)\")\n",
    "ax.set_zlabel(\"Minimum Storage (TWh)\")\n",
    "ax.set_title(\"3D Surface: Minimum Storage vs Renewable Capacity & Electrolyser Power\")\n",
    "\n",
    "# Set the viewing angle\n",
    "ax.view_init(elev=30, azim=210)\n",
    "\n",
    "# Add a color bar\n",
    "fig.colorbar(surf, shrink=0.5, aspect=5)\n",
    "\n",
    "plt.show()"
   ]
  },
  {
   "cell_type": "code",
   "execution_count": null,
   "id": "87b2d5b6",
   "metadata": {},
   "outputs": [],
   "source": [
    "# make a similar plot using plotly for interactivity\n",
    "import plotly.graph_objects as go\n",
    "\n",
    "fig = go.Figure(data=[go.Surface(z=Z, x=X, y=Y, colorscale=\"Viridis\")])\n",
    "fig.update_layout(\n",
    "    title=\"3D Surface: Minimum Storage vs Renewable Capacity & Electrolyser Power\",\n",
    "    scene=dict(\n",
    "        xaxis_title=\"Renewable Capacity (GW)\",\n",
    "        yaxis_title=\"Electrolyser Power (GW)\",\n",
    "        zaxis_title=\"Minimum Storage (TWh)\",\n",
    "    ),\n",
    ")\n",
    "fig.show()"
   ]
  },
  {
   "cell_type": "code",
   "execution_count": null,
   "id": "f7abf3a9",
   "metadata": {},
   "outputs": [],
   "source": []
  }
 ],
 "metadata": {
  "kernelspec": {
   "display_name": "uk-energy-modelling",
   "language": "python",
   "name": "python3"
  },
  "language_info": {
   "codemirror_mode": {
    "name": "ipython",
    "version": 3
   },
   "file_extension": ".py",
   "mimetype": "text/x-python",
   "name": "python",
   "nbconvert_exporter": "python",
   "pygments_lexer": "ipython3",
   "version": "3.12.6"
  }
 },
 "nbformat": 4,
 "nbformat_minor": 5
}
