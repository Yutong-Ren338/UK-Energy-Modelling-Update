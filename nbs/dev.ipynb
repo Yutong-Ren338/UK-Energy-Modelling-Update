{
 "cells": [
  {
   "cell_type": "code",
   "execution_count": null,
   "id": "9870738c",
   "metadata": {},
   "outputs": [],
   "source": [
    "%load_ext autoreload\n",
    "%autoreload 2"
   ]
  },
  {
   "cell_type": "code",
   "execution_count": null,
   "id": "31c9f610",
   "metadata": {},
   "outputs": [],
   "source": [
    "from pathlib import Path\n",
    "\n",
    "import matplotlib.pyplot as plt\n",
    "\n",
    "import src.assumptions as A\n",
    "from src import (\n",
    "    demand_model,\n",
    "    matplotlib_style,  # noqa: F401\n",
    "    storage_model,\n",
    "    supply_model,\n",
    ")\n",
    "from src.units import Units as U"
   ]
  },
  {
   "cell_type": "markdown",
   "id": "095a208e",
   "metadata": {},
   "source": [
    "# storage model plots"
   ]
  },
  {
   "cell_type": "code",
   "execution_count": null,
   "id": "25e6922f",
   "metadata": {},
   "outputs": [],
   "source": [
    "renewable_capacity = 300\n",
    "demand_df = demand_model.predicted_demand(mode=\"naive\", average_year=False)\n",
    "df = supply_model.get_net_supply(demand_df).reset_index()\n",
    "\n",
    "storage = storage_model.StorageModel(\n",
    "    renewable_capacity=renewable_capacity * U.GW,\n",
    "    max_storage_capacity=A.HydrogenStorage.CavernStorage.MaxCapacity,\n",
    "    electrolyser_power=A.HydrogenStorage.Electrolysis.Power,\n",
    "    dac_capacity=A.DAC.Capacity,\n",
    ")\n",
    "net_supply_df = storage.run_simulation(df)\n",
    "results = storage.analyze_simulation_results(net_supply_df)\n",
    "storage.print_simulation_results(results)\n",
    "\n",
    "# meet L>20\n",
    "plt.figure(figsize=(7, 4), dpi=200)\n",
    "plt.plot(net_supply_df[f\"L (TWh),RC={renewable_capacity}GW\"], color=\"g\", linewidth=0.3, label=\"Energy in Storage\")\n",
    "plt.axhline(storage.max_storage_capacity, linestyle=\"dashed\", color=\"r\", label=\"Minimum Storage Capacity\")\n",
    "plt.axhline(20, linestyle=\"dashed\", color=\"b\", label=\"Threshold Energy in Storage\")\n",
    "plt.title(f\"R = {renewable_capacity} GW, Smax = {storage.max_storage_capacity} TWh\")\n",
    "plt.ylim(0, storage.max_storage_capacity * 1.1)\n",
    "plt.xlabel(\"Day in 40 years\")\n",
    "plt.ylabel(\"Stored Energy (TWh)\")\n",
    "plt.legend()"
   ]
  },
  {
   "cell_type": "code",
   "execution_count": null,
   "id": "c4ad6872",
   "metadata": {},
   "outputs": [],
   "source": [
    "# 24GW nuclear & DAC capacity limit\n",
    "plt.figure(figsize=(7, 4), dpi=200)\n",
    "\n",
    "# blue: energy used for DAC # green: energy exceeded the limit (discarded\n",
    "plt.plot(net_supply_df[f\"R_ccs (TWh),RC={renewable_capacity}GW\"], color=\"g\", linewidth=0.1, label=\"Residual Energy\")\n",
    "plt.plot(net_supply_df[f\"R_dac (TWh),RC={renewable_capacity}GW\"], color=\"b\", linewidth=0.1, label=\"DAC Energy\")\n",
    "plt.axhline(storage.dac_max_daily_energy, linestyle=\"dashed\", color=\"r\", label=\"Maximum DAC Energy\")\n",
    "plt.title(\"DAC Energy Utilization from Residual Energy\")\n",
    "plt.xlabel(\"Day in 40 years\")\n",
    "plt.ylabel(\"Energy (TWh)\")\n",
    "plt.legend(fontsize=7)"
   ]
  },
  {
   "cell_type": "markdown",
   "id": "06e3f8fa",
   "metadata": {},
   "source": [
    "# surface plots\n"
   ]
  },
  {
   "cell_type": "code",
   "execution_count": null,
   "id": "25de08ce",
   "metadata": {},
   "outputs": [],
   "source": [
    "import numpy as np\n",
    "\n",
    "A.EnergyDemand2050 = 575 * U.TWh\n",
    "A.EnergyDemand2050 = A.CB7EnergyDemand2050\n",
    "CONTINGENCY_MIN_STORAGE = 20 * U.TWh\n",
    "renewable_capacities = range(200, 410, 10)\n",
    "electrolyser_powers = range(20, 110, 10)\n",
    "max_storage = range(30, 80, 1)\n",
    "Z = np.zeros((len(renewable_capacities), len(electrolyser_powers))) * np.nan\n",
    "xyzs = []\n",
    "\n",
    "df = supply_model.get_net_supply(naive_demand_scaling=True).reset_index()\n",
    "for renewable_capacity in renewable_capacities:\n",
    "    for electrolyser_power in electrolyser_powers:\n",
    "        for storage in max_storage:\n",
    "            model = storage_model.StorageModel(\n",
    "                renewable_capacity=renewable_capacity * U.GW,\n",
    "                max_storage_capacity=storage * U.TWh,\n",
    "                electrolyser_power=electrolyser_power * U.GW,\n",
    "                dac_capacity=A.DAC.Capacity,\n",
    "            )\n",
    "\n",
    "            net_supply_df = model.run_simulation(df.copy())\n",
    "            results = model.analyze_simulation_results(net_supply_df)\n",
    "            if results[\"minimum_storage\"] < CONTINGENCY_MIN_STORAGE:\n",
    "                continue\n",
    "\n",
    "            Z[renewable_capacities.index(renewable_capacity), electrolyser_powers.index(electrolyser_power)] = storage\n",
    "            break"
   ]
  },
  {
   "cell_type": "code",
   "execution_count": null,
   "id": "f27dae94",
   "metadata": {},
   "outputs": [],
   "source": [
    "# meshgrid for x and y\n",
    "X, Y = np.meshgrid(electrolyser_powers, renewable_capacities)\n",
    "\n",
    "# flatten arrays and filter out NaN values for plot_trisurf\n",
    "X_flat = X.flatten()\n",
    "Y_flat = Y.flatten()\n",
    "Z_flat = Z.flatten()\n",
    "\n",
    "# create mask to remove NaN values\n",
    "mask = ~np.isnan(Z_flat)\n",
    "X_clean = X_flat[mask]\n",
    "Y_clean = Y_flat[mask]\n",
    "Z_clean = Z_flat[mask]\n",
    "\n",
    "# plot the surface using trisurf to handle NaN values\n",
    "fig = plt.figure(figsize=(6, 5), dpi=200, tight_layout=True)\n",
    "ax = fig.add_subplot(111, projection=\"3d\")\n",
    "ax.plot_trisurf(X_clean, Y_clean, Z_clean, color=\"lightblue\", alpha=1, edgecolor=\"black\", linewidth=0.1)\n",
    "ax.set_xlabel(\"Electrolyser Power (GW)\")\n",
    "ax.set_ylabel(\"Renewable Capacity (GW)\")\n",
    "ax.set_zlabel(\"Maximum Storage (TWh)\")\n",
    "ax.view_init(elev=20, azim=40)\n",
    "# zoom out to make the axis smaller\n",
    "ax.set_title(\"575 TWh Demand, 20 TWh Minimum Storage Capacity\\nNaive Demand Scaling\", fontsize=10)\n",
    "plt.tight_layout()\n",
    "plt.savefig(Path(\"storage_capacity_surface.png\"), dpi=200)\n",
    "plt.show()"
   ]
  },
  {
   "cell_type": "code",
   "execution_count": null,
   "id": "87b2d5b6",
   "metadata": {},
   "outputs": [],
   "source": [
    "# make a similar plot using plotly for interactivity\n",
    "import plotly.graph_objects as go\n",
    "\n",
    "fig = go.Figure(data=[go.Surface(z=Z, x=X, y=Y, colorscale=\"Viridis\")])\n",
    "fig.update_layout(\n",
    "    title=\"3D Surface: Minimum Storage vs Renewable Capacity & Electrolyser Power\",\n",
    "    scene={\"xaxis_title\": \"Renewable Capacity (GW)\", \"yaxis_title\": \"Electrolyser Power (GW)\", \"zaxis_title\": \"Minimum Storage (TWh)\"},\n",
    ")\n",
    "fig.show()"
   ]
  },
  {
   "cell_type": "code",
   "execution_count": null,
   "id": "f7abf3a9",
   "metadata": {},
   "outputs": [],
   "source": [
    "renewable_capacity = 350\n",
    "df = supply_model.get_net_supply().reset_index()\n",
    "\n",
    "storage = storage_model.StorageModel(\n",
    "    renewable_capacity=renewable_capacity * U.GW,\n",
    "    max_storage_capacity=A.HydrogenStorage.CavernStorage.MaxCapacity,\n",
    "    electrolyser_power=A.HydrogenStorage.Electrolysis.Power,\n",
    "    dac_capacity=A.DAC.Capacity,\n",
    ")\n",
    "net_supply_df = storage.run_simulation(df)\n",
    "results = storage.analyze_simulation_results(net_supply_df)\n",
    "results"
   ]
  },
  {
   "cell_type": "markdown",
   "id": "a3e3eef6",
   "metadata": {},
   "source": [
    "# mt co2"
   ]
  },
  {
   "cell_type": "code",
   "execution_count": null,
   "id": "cc77acaa",
   "metadata": {},
   "outputs": [],
   "source": [
    "from src.utils import convert_energy_cost\n",
    "\n",
    "convert_energy_cost(A.DAC.EnergyCost.Medium, A.MolecularWeightCO2) * 8"
   ]
  },
  {
   "cell_type": "code",
   "execution_count": null,
   "id": "b4a145ae",
   "metadata": {},
   "outputs": [],
   "source": [
    "convert_energy_cost(400 * U.kJ / U.mol, A.MolecularWeightCO2)"
   ]
  }
 ],
 "metadata": {
  "kernelspec": {
   "display_name": "uk-energy-modelling",
   "language": "python",
   "name": "python3"
  },
  "language_info": {
   "codemirror_mode": {
    "name": "ipython",
    "version": 3
   },
   "file_extension": ".py",
   "mimetype": "text/x-python",
   "name": "python",
   "nbconvert_exporter": "python",
   "pygments_lexer": "ipython3",
   "version": "3.12.6"
  }
 },
 "nbformat": 4,
 "nbformat_minor": 5
}
