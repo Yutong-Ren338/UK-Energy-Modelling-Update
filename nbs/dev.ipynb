{
 "cells": [
  {
   "cell_type": "code",
   "execution_count": null,
   "id": "9870738c",
   "metadata": {},
   "outputs": [],
   "source": [
    "%load_ext autoreload\n",
    "%autoreload 2"
   ]
  },
  {
   "cell_type": "code",
   "execution_count": null,
   "id": "31c9f610",
   "metadata": {},
   "outputs": [],
   "source": [
    "from pathlib import Path\n",
    "\n",
    "import matplotlib.pyplot as plt\n",
    "import numpy as np\n",
    "\n",
    "import src.assumptions as A\n",
    "from src import (\n",
    "    demand_model,\n",
    "    matplotlib_style,  # noqa: F401\n",
    "    power_system,\n",
    "    supply_model,\n",
    ")\n",
    "from src.units import Units as U"
   ]
  },
  {
   "cell_type": "markdown",
   "id": "095a208e",
   "metadata": {},
   "source": [
    "# storage model plots"
   ]
  },
  {
   "cell_type": "code",
   "execution_count": null,
   "id": "25e6922f",
   "metadata": {},
   "outputs": [],
   "source": [
    "renewable_capacity = 400\n",
    "demand_mode = \"cb7\"\n",
    "demand_df = demand_model.predicted_demand(mode=demand_mode, average_year=False)\n",
    "df = supply_model.get_net_supply(demand_df).reset_index()\n",
    "\n",
    "storage = power_system.PowerSystem(\n",
    "    renewable_capacity=renewable_capacity * U.GW,\n",
    "    hydrogen_storage_capacity=A.HydrogenStorage.CavernStorage.MaxCapacity,\n",
    "    electrolyser_power=A.HydrogenStorage.Electrolysis.Power,\n",
    "    dac_capacity=A.DAC.Capacity,\n",
    ")\n",
    "sim_df = storage.run_simulation(df)\n",
    "results = storage.analyze_simulation_results(sim_df)\n",
    "storage.plot_simulation_results(sim_df, results, demand_mode)"
   ]
  },
  {
   "cell_type": "markdown",
   "id": "06e3f8fa",
   "metadata": {},
   "source": [
    "# surface plots\n"
   ]
  },
  {
   "cell_type": "code",
   "execution_count": null,
   "id": "25de08ce",
   "metadata": {},
   "outputs": [],
   "source": [
    "demand_mode = \"cb7\"\n",
    "\n",
    "# A.EnergyDemand2050 = 575 * U.TWh\n",
    "# A.EnergySystemLosses = 0\n",
    "A.EnergyDemand2050 = A.CB7EnergyDemand2050\n",
    "CONTINGENCY_MIN_STORAGE = 20 * U.TWh\n",
    "renewable_capacities = range(200, 410, 10)\n",
    "electrolyser_powers = range(20, 110, 10)\n",
    "max_storage = range(30, 200, 10)\n",
    "Z = np.zeros((len(renewable_capacities), len(electrolyser_powers))) * np.nan\n",
    "xyzs = []\n",
    "\n",
    "\n",
    "demand_df = demand_model.predicted_demand(mode=\"seasonal\", average_year=False)\n",
    "df = supply_model.get_net_supply(demand_df).reset_index()\n",
    "\n",
    "total_combinations = len(renewable_capacities) * len(electrolyser_powers) * len(max_storage)\n",
    "\n",
    "for renewable_capacity in renewable_capacities:\n",
    "    for electrolyser_power in electrolyser_powers:\n",
    "        for storage in max_storage:\n",
    "            model = power_system.PowerSystem(\n",
    "                renewable_capacity=renewable_capacity * U.GW,\n",
    "                max_storage_capacity=storage * U.TWh,\n",
    "                electrolyser_power=electrolyser_power * U.GW,\n",
    "                dac_capacity=A.DAC.Capacity,\n",
    "            )\n",
    "\n",
    "            net_supply_df = model.run_simulation(df.copy())\n",
    "            results = model.analyze_simulation_results(net_supply_df)\n",
    "            if results is None:\n",
    "                continue\n",
    "            if results[\"minimum_storage\"] < CONTINGENCY_MIN_STORAGE:\n",
    "                continue\n",
    "\n",
    "            Z[renewable_capacities.index(renewable_capacity), electrolyser_powers.index(electrolyser_power)] = storage\n",
    "            break"
   ]
  },
  {
   "cell_type": "code",
   "execution_count": null,
   "id": "f27dae94",
   "metadata": {},
   "outputs": [],
   "source": [
    "# meshgrid for x and y\n",
    "X, Y = np.meshgrid(electrolyser_powers, renewable_capacities)\n",
    "\n",
    "# flatten arrays and filter out NaN values for plot_trisurf\n",
    "X_flat = X.flatten()\n",
    "Y_flat = Y.flatten()\n",
    "Z_flat = Z.flatten()\n",
    "\n",
    "# create mask to remove NaN values\n",
    "mask = ~np.isnan(Z_flat)\n",
    "X_clean = X_flat[mask]\n",
    "Y_clean = Y_flat[mask]\n",
    "Z_clean = Z_flat[mask]\n",
    "\n",
    "# plot the surface using trisurf to handle NaN values\n",
    "fig = plt.figure(figsize=(6, 5), dpi=200, tight_layout=True)\n",
    "ax = fig.add_subplot(111, projection=\"3d\")\n",
    "ax.plot_trisurf(X_clean, Y_clean, Z_clean, color=\"lightblue\", alpha=1, edgecolor=\"black\", linewidth=0.1)\n",
    "ax.set_xlabel(\"Electrolyser Power (GW)\")\n",
    "ax.set_ylabel(\"Renewable Capacity (GW)\")\n",
    "ax.set_zlabel(\"Maximum Storage (TWh)\")\n",
    "ax.view_init(elev=20, azim=40)\n",
    "# zoom out to make the axis smaller\n",
    "ax.set_title(\n",
    "    f\"{A.EnergyDemand2050.magnitude:.0f} TWh Demand, {CONTINGENCY_MIN_STORAGE.magnitude} TWh Storage Contingency\\nNaive Demand Scaling\", fontsize=10\n",
    ")\n",
    "plt.tight_layout()\n",
    "plt.savefig(Path(\"storage_capacity_surface.png\"), dpi=200)\n",
    "plt.show()"
   ]
  },
  {
   "cell_type": "markdown",
   "id": "a3e3eef6",
   "metadata": {},
   "source": [
    "# mt co2"
   ]
  },
  {
   "cell_type": "code",
   "execution_count": null,
   "id": "cc77acaa",
   "metadata": {},
   "outputs": [],
   "source": [
    "from src.utils import convert_energy_cost\n",
    "\n",
    "convert_energy_cost(A.DAC.EnergyCost.Medium, A.MolecularWeightCO2) * 8"
   ]
  },
  {
   "cell_type": "code",
   "execution_count": null,
   "id": "b4a145ae",
   "metadata": {},
   "outputs": [],
   "source": [
    "convert_energy_cost(400 * U.kJ / U.mol, A.MolecularWeightCO2)"
   ]
  }
 ],
 "metadata": {
  "kernelspec": {
   "display_name": "uk-energy-modelling",
   "language": "python",
   "name": "python3"
  },
  "language_info": {
   "codemirror_mode": {
    "name": "ipython",
    "version": 3
   },
   "file_extension": ".py",
   "mimetype": "text/x-python",
   "name": "python",
   "nbconvert_exporter": "python",
   "pygments_lexer": "ipython3",
   "version": "3.12.6"
  }
 },
 "nbformat": 4,
 "nbformat_minor": 5
}
