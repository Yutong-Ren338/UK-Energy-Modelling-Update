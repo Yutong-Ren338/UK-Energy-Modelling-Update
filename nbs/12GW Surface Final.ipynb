{
 "cells": [
  {
   "cell_type": "markdown",
   "id": "36504b1f",
   "metadata": {},
   "source": [
    "# Surface Model"
   ]
  },
  {
   "cell_type": "code",
   "execution_count": null,
   "id": "246b4be6-c957-4114-984d-a8828a41a327",
   "metadata": {},
   "outputs": [],
   "source": [
    "import numpy as np\n",
    "import pandas as pd\n",
    "import matplotlib.pyplot as plt\n",
    "from mpl_toolkits.mplot3d import Axes3D"
   ]
  },
  {
   "cell_type": "markdown",
   "id": "2314cc00-4a8c-4ab9-98f0-19d2591fa528",
   "metadata": {},
   "source": [
    "## 12 GW Nuclear Surface"
   ]
  },
  {
   "cell_type": "code",
   "execution_count": null,
   "id": "3eec8176-6bad-47dc-bc08-61e97fa2f612",
   "metadata": {},
   "outputs": [],
   "source": [
    "df_storage = pd.read_excel('../data/Surface Plot Final.xlsx',\n",
    "                     sheet_name='Storage')"
   ]
  },
  {
   "cell_type": "code",
   "execution_count": null,
   "id": "e9c860b5-515e-4e78-9dc2-259b34ea1c03",
   "metadata": {},
   "outputs": [],
   "source": [
    "#Plot for minimum storage\n",
    "x_values = np.arange(220,310,10)\n",
    "y_values = np.arange(20,110,10)\n",
    "#x_values = [220,240,260,280,300,320,340,360,380,400,420,440,460,480,500,520,540,560,580,600]\n",
    "#y_values = [30, 40, 50, 60, 70, 80, 90, 100]\n",
    "\n",
    "X, Y = np.meshgrid(x_values, y_values)\n",
    "Z_storage = df_storage.iloc[1:,1:10].values\n",
    "\n",
    "fig = plt.figure(figsize=(10, 10), dpi=200)\n",
    "ax = fig.add_subplot(111, projection='3d')\n",
    "\n",
    "surf = ax.plot_trisurf(X.flatten(), Y.flatten(), Z_storage.flatten(), cmap='viridis')\n",
    "ax.scatter(X,Y,Z_storage, c='b', marker='o')\n",
    "\n",
    "ax.set_xlabel('Renewable Capacity (GW)', fontsize=6)\n",
    "ax.set_ylabel('Electrolyser Power (GW)', fontsize=6)\n",
    "ax.set_zlabel('Minimum Storage (TWh)', fontsize=6, rotation=45)\n",
    "ax.set_title('Minimum Storage Capacity (Low Renewable Capacity)', y=0.9)\n",
    "\n",
    "cbar = fig.colorbar(surf, orientation='vertical', shrink=0.6, aspect=15, pad=0.001, location='right')\n",
    "cbar.ax.tick_params(labelsize=6)\n",
    "ax.view_init(elev=10, azim=66)\n",
    "\n",
    "plt.savefig(\"output/Low Surface\", bbox_inches='tight')\n",
    "\n",
    "plt.show()"
   ]
  },
  {
   "cell_type": "code",
   "execution_count": null,
   "id": "5594ba4d-0b4a-4837-afbf-57f89683eb9a",
   "metadata": {},
   "outputs": [],
   "source": [
    "#Plot for minimum storage\n",
    "x_values = np.arange(310,430,10)\n",
    "y_values = np.arange(20,110,10)\n",
    "#x_values = [220,240,260,280,300,320,340,360,380,400,420,440,460,480,500,520,540,560,580,600]\n",
    "#y_values = [30, 40, 50, 60, 70, 80, 90, 100]\n",
    "\n",
    "X, Y = np.meshgrid(x_values, y_values)\n",
    "Z_storage = df_storage.iloc[1:,10:].values\n",
    "\n",
    "fig = plt.figure(figsize=(10, 10), dpi=200)\n",
    "ax = fig.add_subplot(111, projection='3d')\n",
    "\n",
    "surf = ax.plot_trisurf(X.flatten(), Y.flatten(), Z_storage.flatten(), cmap='viridis')\n",
    "ax.scatter(X,Y,Z_storage, c='b', marker='o')\n",
    "\n",
    "ax.set_xlabel('Renewable Capacity (GW)', fontsize=6)\n",
    "ax.set_ylabel('Electrolyser Power (GW)', fontsize=6)\n",
    "ax.set_zlabel('Minimum Storage (TWh)', fontsize=6, rotation=45)\n",
    "ax.set_title('Minimum Storage Capacity (High Renewable Capacity)',y=0.9)\n",
    "\n",
    "cbar = fig.colorbar(surf, orientation='vertical', shrink=0.6, aspect=15, pad=0.001, location='right')\n",
    "cbar.ax.tick_params(labelsize=6)\n",
    "ax.view_init(elev=10, azim=66)\n",
    "\n",
    "plt.savefig(\"output/High Surface\", bbox_inches='tight')\n",
    "\n",
    "plt.show()"
   ]
  }
 ],
 "metadata": {
  "kernelspec": {
   "display_name": ".venv",
   "language": "python",
   "name": "python3"
  },
  "language_info": {
   "codemirror_mode": {
    "name": "ipython",
    "version": 3
   },
   "file_extension": ".py",
   "mimetype": "text/x-python",
   "name": "python",
   "nbconvert_exporter": "python",
   "pygments_lexer": "ipython3",
   "version": "3.12.6"
  },
  "toc": {
   "base_numbering": 1,
   "nav_menu": {},
   "number_sections": true,
   "sideBar": true,
   "skip_h1_title": false,
   "title_cell": "Table of Contents",
   "title_sidebar": "Contents",
   "toc_cell": false,
   "toc_position": {},
   "toc_section_display": true,
   "toc_window_display": false
  }
 },
 "nbformat": 4,
 "nbformat_minor": 5
}
